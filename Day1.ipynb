{
  "cells": [
    {
      "cell_type": "markdown",
      "metadata": {
        "id": "s8qLeWAdCJpv"
      },
      "source": [
        "# DAY 1 CODING"
      ]
    },
    {
      "cell_type": "code",
      "execution_count": 1,
      "metadata": {
        "colab": {
          "base_uri": "https://localhost:8080/"
        },
        "id": "r_Jn0H7GCJqC",
        "outputId": "7bb1b70b-e105-4f74-d85c-4e1069c96714"
      },
      "outputs": [
        {
          "output_type": "stream",
          "name": "stdout",
          "text": [
            "Hello World\n"
          ]
        }
      ],
      "source": [
        "# FIRST PROGRAM(This is a comment)\n",
        "\n",
        "print(\"Hello World\") "
      ]
    },
    {
      "cell_type": "markdown",
      "metadata": {
        "id": "2-Rr_T0BCJqJ"
      },
      "source": [
        "# Variables"
      ]
    },
    {
      "cell_type": "code",
      "execution_count": 2,
      "metadata": {
        "id": "vEQwM_foCJqM"
      },
      "outputs": [],
      "source": [
        "counter = 100 # An integer number\n",
        "miles = 1000.0 # A floating point number\n",
        "name = \"John\" # A string\n",
        "\n",
        "a = b = c = 1\n",
        "\n",
        "a, b, c = 1 ,2 , \"john\""
      ]
    },
    {
      "cell_type": "markdown",
      "metadata": {
        "id": "WDUju4nFCJqP"
      },
      "source": [
        "Print the Variable data type"
      ]
    },
    {
      "cell_type": "code",
      "source": [
        "print(counter)\n",
        "print(miles)\n",
        "print(a)\n",
        "print(b)\n",
        "print(name)"
      ],
      "metadata": {
        "id": "YU2UeNMFKarX",
        "outputId": "79984e19-6b4b-41c6-885d-5cd32cad731a",
        "colab": {
          "base_uri": "https://localhost:8080/"
        }
      },
      "execution_count": 8,
      "outputs": [
        {
          "output_type": "stream",
          "name": "stdout",
          "text": [
            "100\n",
            "1000.0\n",
            "1\n",
            "2\n",
            "John\n"
          ]
        }
      ]
    },
    {
      "cell_type": "code",
      "source": [
        "counter \n",
        "miles\n",
        "a\n",
        "name"
      ],
      "metadata": {
        "id": "0Gx_6qs1Kfp_",
        "outputId": "abd58db8-f35f-4766-c9a8-2b2582b8f4d6",
        "colab": {
          "base_uri": "https://localhost:8080/",
          "height": 35
        }
      },
      "execution_count": 7,
      "outputs": [
        {
          "output_type": "execute_result",
          "data": {
            "text/plain": [
              "'John'"
            ],
            "application/vnd.google.colaboratory.intrinsic+json": {
              "type": "string"
            }
          },
          "metadata": {},
          "execution_count": 7
        }
      ]
    },
    {
      "cell_type": "code",
      "execution_count": 9,
      "metadata": {
        "colab": {
          "base_uri": "https://localhost:8080/"
        },
        "id": "rYGnUTxpCJqS",
        "outputId": "d48870c0-704a-4e1a-e04f-6312139ae25c"
      },
      "outputs": [
        {
          "output_type": "stream",
          "name": "stdout",
          "text": [
            "<class 'int'>\n",
            "<class 'float'>\n",
            "<class 'str'>\n",
            "<class 'int'>\n"
          ]
        }
      ],
      "source": [
        "print(type(counter))\n",
        "print(type(miles))\n",
        "print(type(name))\n",
        "print(type(a))"
      ]
    },
    {
      "cell_type": "code",
      "source": [
        "a=10 #Here I declare the value 10 to the variable name 'a'\n",
        "print('The value stored in a is',a,'m')"
      ],
      "metadata": {
        "id": "o4evHRkbLlt6",
        "outputId": "22b64112-9857-4551-9880-bc2f36dbcea9",
        "colab": {
          "base_uri": "https://localhost:8080/"
        }
      },
      "execution_count": 17,
      "outputs": [
        {
          "output_type": "stream",
          "name": "stdout",
          "text": [
            "The value stored in a is 10 m\n"
          ]
        }
      ]
    },
    {
      "cell_type": "code",
      "source": [
        "\"\"\" sample code\n",
        "is mine\"\"\"\n",
        "x=10\n",
        "x"
      ],
      "metadata": {
        "id": "fu-3DTHdMGaU",
        "outputId": "68eecd81-4923-4a99-fcbd-b0be36ff2ad7",
        "colab": {
          "base_uri": "https://localhost:8080/"
        }
      },
      "execution_count": 16,
      "outputs": [
        {
          "output_type": "execute_result",
          "data": {
            "text/plain": [
              "10"
            ]
          },
          "metadata": {},
          "execution_count": 16
        }
      ]
    },
    {
      "cell_type": "code",
      "source": [
        "#List all the generic keywords in python\n",
        "import keyword\n",
        "keyword.kwlist"
      ],
      "metadata": {
        "id": "nQG1AliZMjrs"
      },
      "execution_count": null,
      "outputs": []
    },
    {
      "cell_type": "code",
      "source": [
        "#Single to multiline statements\n",
        "a=1+\\\n",
        "2+\\\n",
        "3\n",
        "print(a)"
      ],
      "metadata": {
        "id": "DuPO0UxtM75M",
        "outputId": "95fedf84-5e7d-450a-ca92-da914dfaa9a2",
        "colab": {
          "base_uri": "https://localhost:8080/"
        }
      },
      "execution_count": 19,
      "outputs": [
        {
          "output_type": "stream",
          "name": "stdout",
          "text": [
            "6\n"
          ]
        }
      ]
    },
    {
      "cell_type": "code",
      "source": [
        "#Multiline to single line\n",
        "a=5;a=a+5;print(a)"
      ],
      "metadata": {
        "id": "fl02KBvPNR0r",
        "outputId": "ad2d45be-6c55-4098-a2f3-19431da8d9e2",
        "colab": {
          "base_uri": "https://localhost:8080/"
        }
      },
      "execution_count": 21,
      "outputs": [
        {
          "output_type": "stream",
          "name": "stdout",
          "text": [
            "10\n"
          ]
        }
      ]
    },
    {
      "cell_type": "markdown",
      "metadata": {
        "id": "vJVKLpLrCJqY"
      },
      "source": [
        "# Data types\n",
        "\n"
      ]
    },
    {
      "cell_type": "markdown",
      "metadata": {
        "id": "DoiXyxYUCJqb"
      },
      "source": [
        "# Numeric Data type"
      ]
    },
    {
      "cell_type": "code",
      "execution_count": 22,
      "metadata": {
        "colab": {
          "base_uri": "https://localhost:8080/"
        },
        "id": "HFzWrkIzCJqf",
        "outputId": "a409afc0-6c2c-45b5-dac1-a8d89c3f2e98"
      },
      "outputs": [
        {
          "output_type": "stream",
          "name": "stdout",
          "text": [
            "10\n"
          ]
        },
        {
          "output_type": "execute_result",
          "data": {
            "text/plain": [
              "int"
            ]
          },
          "metadata": {},
          "execution_count": 22
        }
      ],
      "source": [
        "#Integer\n",
        "print(10)\n",
        "type(10)\n"
      ]
    },
    {
      "cell_type": "code",
      "execution_count": 23,
      "metadata": {
        "colab": {
          "base_uri": "https://localhost:8080/"
        },
        "id": "JzYhH352CJqj",
        "outputId": "862921ce-a9c9-4d2d-dd88-c38a9f84b874"
      },
      "outputs": [
        {
          "output_type": "stream",
          "name": "stdout",
          "text": [
            "21\n",
            "<class 'float'>\n",
            "8.0\n"
          ]
        }
      ],
      "source": [
        "#Float\n",
        "print(int(21.89)) \n",
        "print(type(21.89))\n",
        "print(float(8)) \n"
      ]
    },
    {
      "cell_type": "code",
      "execution_count": 24,
      "metadata": {
        "colab": {
          "base_uri": "https://localhost:8080/"
        },
        "id": "lRw7MqIOCJqm",
        "outputId": "f892ee7c-7fec-452b-c187-04303e0b2494"
      },
      "outputs": [
        {
          "output_type": "stream",
          "name": "stdout",
          "text": [
            "(2+3j)\n",
            "<class 'complex'>\n"
          ]
        }
      ],
      "source": [
        "#Complex\n",
        "print(2+3j)\n",
        "print(type(2+3j))"
      ]
    },
    {
      "cell_type": "code",
      "source": [
        "j=10\n",
        "print(2+3j)"
      ],
      "metadata": {
        "id": "R9bxDoFvPhXr",
        "outputId": "b72d5846-976a-4f55-f632-2ca902dad6b2",
        "colab": {
          "base_uri": "https://localhost:8080/"
        }
      },
      "execution_count": 28,
      "outputs": [
        {
          "output_type": "stream",
          "name": "stdout",
          "text": [
            "(2+3j)\n"
          ]
        }
      ]
    },
    {
      "cell_type": "code",
      "execution_count": null,
      "metadata": {
        "id": "SdHjPEobCJqo"
      },
      "outputs": [],
      "source": [
        "#BUILT IN FUNCTIONS IN NUMBER DATATYPE\n",
        "a=5\n",
        "b=6\n",
        "print(min(a,b))\n",
        "print(max(a,b))\n",
        "print(round(1.3))   # gives 1\n",
        "print(round(1.7))   # gives 2\n",
        "print(round(-1.3))  # gives -1\n",
        "print(round(-1.7))  # gives -2\n",
        "print(round(23.4567,2))\n",
        "#round(number, number of digits)\n",
        "c=9.453\n",
        "print(round(c,1))"
      ]
    },
    {
      "cell_type": "code",
      "source": [
        "round(c,2)\n",
        "min(a,b)\n",
        "max(a,b)"
      ],
      "metadata": {
        "id": "Qu9sfwccPFb3",
        "outputId": "0ae58baf-2dce-449d-fbfa-ebcade949082",
        "colab": {
          "base_uri": "https://localhost:8080/"
        }
      },
      "execution_count": 27,
      "outputs": [
        {
          "output_type": "execute_result",
          "data": {
            "text/plain": [
              "6"
            ]
          },
          "metadata": {},
          "execution_count": 27
        }
      ]
    },
    {
      "cell_type": "code",
      "execution_count": null,
      "metadata": {
        "id": "VsfBmrmuCJqq"
      },
      "outputs": [],
      "source": [
        "#Mathematical Functions\n",
        "import math\n",
        "a=10\n",
        "b=2\n",
        "print(math.log(a))\n",
        "print(math.log10(a))\n",
        "print(pow(a,b))\n",
        "\n",
        "d=8\n",
        "print(math.exp(d))#Returns the exponent of x\n",
        "\n",
        "print(math.floor(-8.79))#Returns smallest integer not greater than x.\n",
        "print(math.floor(8.79))\n",
        "print(math.ceil(-8.79))#Returns largest integer not greater than x.\n",
        "print(math.ceil(8.49))\n",
        "\n",
        "number = -12.08# When the input is a floating point number# \n",
        "print(abs(number)) \n",
        "print(math.fabs(number)) \n",
        "number = -10#when the variable is integer\n",
        "print(abs(number)) # abs() will return an integer as an real integer\n",
        "print(math.fabs(number)) # fabs() will return a floating point number \n",
        "print(math.sqrt(2))"
      ]
    },
    {
      "cell_type": "code",
      "source": [
        "round(math.log(2),4)"
      ],
      "metadata": {
        "id": "TqvQBwYZRapO",
        "outputId": "a1896cdb-c226-4c61-a9bb-1018f6212911",
        "colab": {
          "base_uri": "https://localhost:8080/"
        }
      },
      "execution_count": 34,
      "outputs": [
        {
          "output_type": "execute_result",
          "data": {
            "text/plain": [
              "0.6931"
            ]
          },
          "metadata": {},
          "execution_count": 34
        }
      ]
    },
    {
      "cell_type": "code",
      "source": [
        "math.pi"
      ],
      "metadata": {
        "id": "8EhTq6y7R7p7",
        "outputId": "ccbccdf3-8e8b-422e-a783-dcad0db6bb7c",
        "colab": {
          "base_uri": "https://localhost:8080/"
        }
      },
      "execution_count": 35,
      "outputs": [
        {
          "output_type": "execute_result",
          "data": {
            "text/plain": [
              "3.141592653589793"
            ]
          },
          "metadata": {},
          "execution_count": 35
        }
      ]
    },
    {
      "cell_type": "code",
      "execution_count": 36,
      "metadata": {
        "colab": {
          "base_uri": "https://localhost:8080/"
        },
        "id": "Jyr8EM00CJqs",
        "outputId": "b46b239c-ed14-4de3-ff4d-7474bd8bd4db"
      },
      "outputs": [
        {
          "output_type": "stream",
          "name": "stdout",
          "text": [
            "-0.9880316240928618\n",
            "0.15425144988758405\n",
            "-6.405331196646276\n",
            "359.99511225864757\n",
            "6.283185307179586\n",
            "78.53981633974483\n"
          ]
        }
      ],
      "source": [
        "#Trignometric functions\n",
        "print(math.sin(30))\n",
        "print(math.cos(30))\n",
        "print(math.tan(30))\n",
        "print(math.degrees(6.2831))#convert radians to degrees\n",
        "print(math.radians(360))#convert degrees to radians\n",
        "\n",
        "\n",
        "#Find the area of the circle\n",
        "\n",
        "r=5#declare the radius of circle is 5cmS\n",
        "area=math.pi*r*r\n",
        "print(area)"
      ]
    },
    {
      "cell_type": "code",
      "execution_count": 41,
      "metadata": {
        "colab": {
          "base_uri": "https://localhost:8080/"
        },
        "id": "yzQvzkAlCJqt",
        "outputId": "d7305437-b5ff-4374-eabc-911d2bcd431a"
      },
      "outputs": [
        {
          "output_type": "stream",
          "name": "stdout",
          "text": [
            "0.9781030714749479\n",
            "10\n"
          ]
        }
      ],
      "source": [
        "#Random number generation\n",
        "\n",
        "import random\n",
        "print(random.random())# Print a random number between 0 to 1\n",
        "print(random.randint(1,10))# print random numbers between the range"
      ]
    },
    {
      "cell_type": "code",
      "execution_count": null,
      "metadata": {
        "colab": {
          "base_uri": "https://localhost:8080/"
        },
        "id": "C3Cv11bwJObe",
        "outputId": "c7c7e551-24da-4c28-8c04-db429f5b6c23"
      },
      "outputs": [
        {
          "name": "stdout",
          "output_type": "stream",
          "text": [
            "0.34957626669383457\n"
          ]
        }
      ],
      "source": [
        "#What should be the code to print random 5 numbers?\n",
        "print(random.random())"
      ]
    },
    {
      "cell_type": "code",
      "execution_count": null,
      "metadata": {
        "id": "ckqeYdgQCJqu"
      },
      "outputs": [],
      "source": [
        "#Challenge \n",
        "#fill in the space \n",
        "\n",
        "print(math.sqrt(9))\n",
        "print(math.sqrt(16))\n",
        "print(int(math.sqrt(100)))\n",
        "print(math.degrees(math.pi))\n",
        "print(random.randint(4,7))\n"
      ]
    },
    {
      "cell_type": "code",
      "source": [
        "import math\n",
        "print(math.ceil(252.4))\n",
        "print(math.floor(252.4))"
      ],
      "metadata": {
        "id": "p09dLJpLVS3G",
        "outputId": "693a07c2-630f-4ea4-87b8-96df17e436d2",
        "colab": {
          "base_uri": "https://localhost:8080/"
        }
      },
      "execution_count": 43,
      "outputs": [
        {
          "output_type": "stream",
          "name": "stdout",
          "text": [
            "253\n",
            "252\n"
          ]
        }
      ]
    },
    {
      "cell_type": "code",
      "source": [
        "from numbers import Number\n",
        "from decimal import Decimal\n",
        "from fractions import Fraction\n",
        "\n",
        "print(isinstance(2.0, Number))\n",
        "print(isinstance(Decimal('2.0'), Number))\n",
        "print(isinstance(Fraction(2, 1), Number))\n",
        "print(isinstance(\"2\", Number))"
      ],
      "metadata": {
        "id": "zAxjHYjfVwhG",
        "outputId": "b511e244-c7d8-41bd-8b5a-10ec3101cd92",
        "colab": {
          "base_uri": "https://localhost:8080/"
        }
      },
      "execution_count": 44,
      "outputs": [
        {
          "output_type": "stream",
          "name": "stdout",
          "text": [
            "True\n",
            "True\n",
            "True\n",
            "False\n"
          ]
        }
      ]
    },
    {
      "cell_type": "markdown",
      "metadata": {
        "id": "LuO5VjP_CJqw"
      },
      "source": [
        "# List"
      ]
    },
    {
      "cell_type": "code",
      "execution_count": 45,
      "metadata": {
        "colab": {
          "base_uri": "https://localhost:8080/"
        },
        "id": "Xjs98C-YCJqw",
        "outputId": "223e4498-4317-4b54-c4e6-2a382fc60046"
      },
      "outputs": [
        {
          "output_type": "stream",
          "name": "stdout",
          "text": [
            "['physics', 'chemistry', 1997, 2000]\n",
            "[1, 2, 3, 4, 5, 6, 7]\n"
          ]
        }
      ],
      "source": [
        "list1 = ['physics', 'chemistry', 1997, 2000]\n",
        "list2 = [1, 2, 3, 4, 5, 6, 7 ]#list start with index 0 to n-1 \n",
        "\n",
        "print(list1)\n",
        "print(list2)\n"
      ]
    },
    {
      "cell_type": "code",
      "execution_count": 46,
      "metadata": {
        "colab": {
          "base_uri": "https://localhost:8080/"
        },
        "id": "AYkXsqbkCJqx",
        "outputId": "6b734b47-e3b9-4138-adfc-5377eaf33c2c"
      },
      "outputs": [
        {
          "output_type": "stream",
          "name": "stdout",
          "text": [
            "list1[0]:  physics\n",
            "list2[1:5]:  [2, 3, 4, 5]\n",
            "['physics', 'chemistry', 1997]\n",
            "[3, 4, 5, 6, 7]\n",
            "[1, 2, 3, 4, 5, 6, 7]\n",
            "[1, 2, 3, 4]\n"
          ]
        }
      ],
      "source": [
        "#Accessing a list\n",
        "\n",
        "print (\"list1[0]: \", list1[0])#prints the first position element in the list1\n",
        "print (\"list2[1:5]: \", list2[1:5]) #prints the element from 1st position until 4th position in the list1\n",
        "print(list1[:3])  # prints the element from starting position until 2nd position in the list 2\n",
        "print(list2[2:])  #Prints the element from 2nd position until the last value in the list 2\n",
        "print(list2[:]) #Prints the entire list2\n",
        "print(list2[:-3])\n"
      ]
    },
    {
      "cell_type": "code",
      "execution_count": 68,
      "metadata": {
        "colab": {
          "base_uri": "https://localhost:8080/"
        },
        "id": "KupAzeUoCJqy",
        "outputId": "5184cc9d-3228-4d45-adf6-75a395a8053b"
      },
      "outputs": [
        {
          "output_type": "stream",
          "name": "stdout",
          "text": [
            "Value available at index 2 : \n",
            "1997\n",
            "New value available at index 2 : \n",
            "2001\n"
          ]
        }
      ],
      "source": [
        "#Updating a list\n",
        "list = ['physics', 'chemistry', 1997, 2000]\n",
        "print (\"Value available at index 2 : \")\n",
        "print (list[2])\n",
        "list[2] = 2001\n",
        "print (\"New value available at index 2 : \")\n",
        "print (list[2])\n"
      ]
    },
    {
      "cell_type": "code",
      "source": [
        "list"
      ],
      "metadata": {
        "id": "ctUV_wtMyZmw",
        "outputId": "7550b216-3680-4ccf-8920-bcab2ae7d498",
        "colab": {
          "base_uri": "https://localhost:8080/"
        }
      },
      "execution_count": 69,
      "outputs": [
        {
          "output_type": "execute_result",
          "data": {
            "text/plain": [
              "['physics', 'chemistry', 2001, 2000]"
            ]
          },
          "metadata": {},
          "execution_count": 69
        }
      ]
    },
    {
      "cell_type": "code",
      "source": [
        "x=[20,34,45]\n",
        "list.append(x)\n",
        "list"
      ],
      "metadata": {
        "id": "gNsCdY7SxxC5",
        "outputId": "6e5cf68d-8a4f-498d-a72c-b29c1f0781c5",
        "colab": {
          "base_uri": "https://localhost:8080/"
        }
      },
      "execution_count": 67,
      "outputs": [
        {
          "output_type": "execute_result",
          "data": {
            "text/plain": [
              "['apple',\n",
              " 2001,\n",
              " 'apple',\n",
              " 'apple',\n",
              " 2000,\n",
              " [20, 34, 45],\n",
              " 67,\n",
              " 8,\n",
              " 9,\n",
              " 10,\n",
              " [20, 34, 45],\n",
              " [20, 34, 45],\n",
              " [20, 34, 45],\n",
              " 67,\n",
              " 8,\n",
              " 9,\n",
              " 10,\n",
              " 67,\n",
              " 8,\n",
              " 9,\n",
              " 10,\n",
              " [20, 34, 45]]"
            ]
          },
          "metadata": {},
          "execution_count": 67
        }
      ]
    },
    {
      "cell_type": "code",
      "source": [
        "#Add list within a list\n",
        "list.append(67)#Add single value at the last \n",
        "print(list)\n",
        "list.extend((8, 9, 10))#Add multiple values\n",
        "print(list)\n",
        "list.insert(2,'apple')#Add value in a particular position\n",
        "print(list)\n",
        "list.remove('chemistry')# Remove by value \n",
        "print(list)\n",
        "list.pop(0)#Remove by index or position\n",
        "print(list)\n",
        "list.index('apple')#display the index of value 'apple'\n",
        "print(list)"
      ],
      "metadata": {
        "id": "5KJMX309xtGQ",
        "outputId": "70c2868d-7391-4723-831e-fc625240a818",
        "colab": {
          "base_uri": "https://localhost:8080/",
          "height": 288
        }
      },
      "execution_count": 66,
      "outputs": [
        {
          "output_type": "stream",
          "name": "stdout",
          "text": [
            "['apple', 2001, 'apple', 2000, [20, 34, 45], 67, 8, 9, 10, [20, 34, 45], [20, 34, 45], [20, 34, 45], 67, 8, 9, 10, 67]\n",
            "['apple', 2001, 'apple', 2000, [20, 34, 45], 67, 8, 9, 10, [20, 34, 45], [20, 34, 45], [20, 34, 45], 67, 8, 9, 10, 67, 8, 9, 10]\n",
            "['apple', 2001, 'apple', 'apple', 2000, [20, 34, 45], 67, 8, 9, 10, [20, 34, 45], [20, 34, 45], [20, 34, 45], 67, 8, 9, 10, 67, 8, 9, 10]\n"
          ]
        },
        {
          "output_type": "error",
          "ename": "ValueError",
          "evalue": "ignored",
          "traceback": [
            "\u001b[0;31m---------------------------------------------------------------------------\u001b[0m",
            "\u001b[0;31mValueError\u001b[0m                                Traceback (most recent call last)",
            "\u001b[0;32m<ipython-input-66-7f5db18659bd>\u001b[0m in \u001b[0;36m<module>\u001b[0;34m()\u001b[0m\n\u001b[1;32m      6\u001b[0m \u001b[0mlist\u001b[0m\u001b[0;34m.\u001b[0m\u001b[0minsert\u001b[0m\u001b[0;34m(\u001b[0m\u001b[0;36m2\u001b[0m\u001b[0;34m,\u001b[0m\u001b[0;34m'apple'\u001b[0m\u001b[0;34m)\u001b[0m\u001b[0;31m#Add value in a particular position\u001b[0m\u001b[0;34m\u001b[0m\u001b[0;34m\u001b[0m\u001b[0m\n\u001b[1;32m      7\u001b[0m \u001b[0mprint\u001b[0m\u001b[0;34m(\u001b[0m\u001b[0mlist\u001b[0m\u001b[0;34m)\u001b[0m\u001b[0;34m\u001b[0m\u001b[0;34m\u001b[0m\u001b[0m\n\u001b[0;32m----> 8\u001b[0;31m \u001b[0mlist\u001b[0m\u001b[0;34m.\u001b[0m\u001b[0mremove\u001b[0m\u001b[0;34m(\u001b[0m\u001b[0;34m'chemistry'\u001b[0m\u001b[0;34m)\u001b[0m\u001b[0;31m# Remove by value\u001b[0m\u001b[0;34m\u001b[0m\u001b[0;34m\u001b[0m\u001b[0m\n\u001b[0m\u001b[1;32m      9\u001b[0m \u001b[0mprint\u001b[0m\u001b[0;34m(\u001b[0m\u001b[0mlist\u001b[0m\u001b[0;34m)\u001b[0m\u001b[0;34m\u001b[0m\u001b[0;34m\u001b[0m\u001b[0m\n\u001b[1;32m     10\u001b[0m \u001b[0mlist\u001b[0m\u001b[0;34m.\u001b[0m\u001b[0mpop\u001b[0m\u001b[0;34m(\u001b[0m\u001b[0;36m0\u001b[0m\u001b[0;34m)\u001b[0m\u001b[0;31m#Remove by index or position\u001b[0m\u001b[0;34m\u001b[0m\u001b[0;34m\u001b[0m\u001b[0m\n",
            "\u001b[0;31mValueError\u001b[0m: list.remove(x): x not in list"
          ]
        }
      ]
    },
    {
      "cell_type": "code",
      "source": [
        "list2 = ['a','b','a','c','a','b']\n",
        "print(list2)\n",
        "list2.remove('a')\n",
        "print(list2)\n",
        "print(list2.count('a'))"
      ],
      "metadata": {
        "id": "4ZXEY39MydTj",
        "outputId": "52530bf6-020b-4c09-be4b-02a39a7a5d6f",
        "colab": {
          "base_uri": "https://localhost:8080/"
        }
      },
      "execution_count": 71,
      "outputs": [
        {
          "output_type": "stream",
          "name": "stdout",
          "text": [
            "['a', 'b', 'a', 'c', 'a', 'b']\n",
            "['b', 'a', 'c', 'a', 'b']\n",
            "2\n"
          ]
        }
      ]
    },
    {
      "cell_type": "code",
      "source": [
        "len(list2)"
      ],
      "metadata": {
        "id": "35npICuRy9Z4",
        "outputId": "5850cb4f-b9ab-4a1e-9b92-81058377b95b",
        "colab": {
          "base_uri": "https://localhost:8080/"
        }
      },
      "execution_count": 74,
      "outputs": [
        {
          "output_type": "execute_result",
          "data": {
            "text/plain": [
              "5"
            ]
          },
          "metadata": {},
          "execution_count": 74
        }
      ]
    },
    {
      "cell_type": "code",
      "source": [
        "list2.sort()\n",
        "list2"
      ],
      "metadata": {
        "id": "lJM6VHfByvZh",
        "outputId": "a8fbc9e5-0b07-47cd-a10e-42dbb47a9421",
        "colab": {
          "base_uri": "https://localhost:8080/"
        }
      },
      "execution_count": 73,
      "outputs": [
        {
          "output_type": "execute_result",
          "data": {
            "text/plain": [
              "['a', 'a', 'b', 'b', 'c']"
            ]
          },
          "metadata": {},
          "execution_count": 73
        }
      ]
    },
    {
      "cell_type": "code",
      "source": [
        "list2.sort(reverse=True)\n",
        "list2"
      ],
      "metadata": {
        "id": "1GzIM4t2zHTF",
        "outputId": "adb50835-66de-4e6b-c86e-4c856c8eda3b",
        "colab": {
          "base_uri": "https://localhost:8080/"
        }
      },
      "execution_count": 75,
      "outputs": [
        {
          "output_type": "execute_result",
          "data": {
            "text/plain": [
              "['c', 'b', 'b', 'a', 'a']"
            ]
          },
          "metadata": {},
          "execution_count": 75
        }
      ]
    },
    {
      "cell_type": "code",
      "source": [
        "list2.reverse()\n",
        "list2"
      ],
      "metadata": {
        "id": "swZ0xR25zVX-",
        "outputId": "9244d26c-9dd1-4fa0-b1cd-17c25e59f053",
        "colab": {
          "base_uri": "https://localhost:8080/"
        }
      },
      "execution_count": 76,
      "outputs": [
        {
          "output_type": "execute_result",
          "data": {
            "text/plain": [
              "['a', 'a', 'b', 'b', 'c']"
            ]
          },
          "metadata": {},
          "execution_count": 76
        }
      ]
    },
    {
      "cell_type": "code",
      "source": [
        "list2.clear()\n",
        "list2"
      ],
      "metadata": {
        "id": "TJ6zr0ts0H5F",
        "outputId": "2abada20-1d5b-4473-bc69-abe332d136ac",
        "colab": {
          "base_uri": "https://localhost:8080/"
        }
      },
      "execution_count": 78,
      "outputs": [
        {
          "output_type": "execute_result",
          "data": {
            "text/plain": [
              "[]"
            ]
          },
          "metadata": {},
          "execution_count": 78
        }
      ]
    },
    {
      "cell_type": "code",
      "execution_count": 79,
      "metadata": {
        "id": "RrnlBZ_lCJq0",
        "outputId": "c198f5d3-5211-4882-d9f4-ab5323c98eae",
        "colab": {
          "base_uri": "https://localhost:8080/"
        }
      },
      "outputs": [
        {
          "output_type": "stream",
          "name": "stdout",
          "text": [
            "['physics', 'chemistry', 1997, 2000]\n",
            "After deleting value at index 2 : \n",
            "['physics', 'chemistry', 2000]\n"
          ]
        }
      ],
      "source": [
        "#Delete a list \n",
        "list1 = ['physics', 'chemistry', 1997, 2000]\n",
        "print (list1)\n",
        "del list1[2]\n",
        "print (\"After deleting value at index 2 : \")\n",
        "print (list1)"
      ]
    },
    {
      "cell_type": "code",
      "source": [
        "del list1[:]"
      ],
      "metadata": {
        "id": "VXsmA3P60bxz"
      },
      "execution_count": 80,
      "outputs": []
    },
    {
      "cell_type": "code",
      "source": [
        "list1"
      ],
      "metadata": {
        "id": "FKZqc0xr0gCC",
        "outputId": "d9de4639-532c-4830-894a-763612f34398",
        "colab": {
          "base_uri": "https://localhost:8080/"
        }
      },
      "execution_count": 81,
      "outputs": [
        {
          "output_type": "execute_result",
          "data": {
            "text/plain": [
              "[]"
            ]
          },
          "metadata": {},
          "execution_count": 81
        }
      ]
    },
    {
      "cell_type": "code",
      "execution_count": null,
      "metadata": {
        "colab": {
          "base_uri": "https://localhost:8080/"
        },
        "id": "VhzFo6NgCJq0",
        "outputId": "8efbc688-4c02-4cfb-a489-36b47d1a4c68"
      },
      "outputs": [
        {
          "name": "stdout",
          "output_type": "stream",
          "text": [
            "3\n",
            "[1, 2, 3, 4, 5, 6]\n",
            "['Hi!', 'Hi!', 'Hi!', 'Hi!']\n",
            "True\n",
            "1 2 3 "
          ]
        }
      ],
      "source": [
        "#BUILD IN  LIST OPERATIONS3\t\n",
        "print(len([1, 2, 3]))\t\n",
        "print([1, 2, 3] + [4, 5, 6])#concatenation\t\n",
        "print(['Hi!'] * 4)#repetition\n",
        "print(3 in [1, 2, 3])\t\n",
        "for x in [1,2,3] : \n",
        "    print (x,end = ' ')"
      ]
    },
    {
      "cell_type": "code",
      "execution_count": 85,
      "metadata": {
        "colab": {
          "base_uri": "https://localhost:8080/"
        },
        "id": "vhJrVpG6CJq1",
        "outputId": "24e7f0f7-4a70-4736-9606-22455f3807e2"
      },
      "outputs": [
        {
          "output_type": "stream",
          "name": "stdout",
          "text": [
            "5\n",
            "7\n",
            "1\n",
            "['apple', 'banana', 1987, 1985, 1985, 'mango']\n",
            "2\n"
          ]
        }
      ],
      "source": [
        "#BUILD IN LIST FUNCTIONS & METHODS\n",
        "a=['apple','banana',1987,1985,1985]\n",
        "b=[1,2,3,4,5,6,7]\n",
        "\n",
        "\n",
        "print(len(a))#returns the length of a list\n",
        "print(max(b))# returns maximum value in the list\n",
        "print(min(b))# returns the minimum value in the list\n",
        "\n",
        "a.append('mango')#append another object to the list\n",
        "print(a[:])\n",
        "\n",
        "print(a.count(1985))# Count the number of times the object in the list\n"
      ]
    },
    {
      "cell_type": "code",
      "execution_count": null,
      "metadata": {
        "id": "yZhTznY-CJq2",
        "outputId": "909108d2-be61-4424-a5b9-c5deec38cab8"
      },
      "outputs": [
        {
          "name": "stdout",
          "output_type": "stream",
          "text": [
            "5\n",
            "['apple', 1987, 1985, 1985, 'mango']\n"
          ]
        }
      ],
      "source": [
        "print(a.index('mango'))\n",
        "\n",
        "a.remove('banana')\n",
        "print(a)\n"
      ]
    },
    {
      "cell_type": "code",
      "execution_count": 87,
      "metadata": {
        "colab": {
          "base_uri": "https://localhost:8080/"
        },
        "id": "aJrI7GIACJq3",
        "outputId": "01519f53-b1fa-4570-9ba6-45c0eea2da20"
      },
      "outputs": [
        {
          "output_type": "stream",
          "name": "stdout",
          "text": [
            "[7, 6, 5, 4, 3, 2, 1]\n"
          ]
        }
      ],
      "source": [
        "b.reverse()\n",
        "print(b)"
      ]
    },
    {
      "cell_type": "code",
      "execution_count": 86,
      "metadata": {
        "id": "r_dT0BKHCJq3",
        "outputId": "6907c127-806a-40f0-8870-b51996a74e12",
        "colab": {
          "base_uri": "https://localhost:8080/"
        }
      },
      "outputs": [
        {
          "output_type": "stream",
          "name": "stdout",
          "text": [
            "Updated List:  ['a', 'e', 'i', 'o', 'u']\n"
          ]
        }
      ],
      "source": [
        "#inserting the list\n",
        "vowel = ['a', 'e', 'i', 'u']\n",
        "# inserting element to list at 4th position\n",
        "vowel.insert(3, 'o')\n",
        "print('Updated List: ', vowel)"
      ]
    },
    {
      "cell_type": "code",
      "execution_count": 88,
      "metadata": {
        "id": "N1H-hmt0CJq4",
        "outputId": "fec0395f-d762-4108-e7af-11e003b011be",
        "colab": {
          "base_uri": "https://localhost:8080/"
        }
      },
      "outputs": [
        {
          "output_type": "stream",
          "name": "stdout",
          "text": [
            "Updated animal list:  ['cat', 'dog', 'guinea pig']\n"
          ]
        }
      ],
      "source": [
        "# Remove the particular object in list\n",
        "animal = ['cat', 'dog', 'rabbit', 'guinea pig']\n",
        "# 'rabbit' element is removed\n",
        "animal.remove('rabbit')\n",
        "#Updated Animal List\n",
        "print('Updated animal list: ', animal)"
      ]
    },
    {
      "cell_type": "code",
      "execution_count": null,
      "metadata": {
        "id": "mZBVM3hbCJq4",
        "outputId": "7d165c81-6773-4751-fcb5-543f51ccfe38"
      },
      "outputs": [
        {
          "name": "stdout",
          "output_type": "stream",
          "text": [
            "['a', 'x', 'c', 'd']\n",
            "['a', 'b', 'c', 'd']\n"
          ]
        }
      ],
      "source": [
        "#COPY WITH SLICE OPERATOR #deep copy\n",
        "list1 = ['a','b','c','d']\n",
        "list2 = list1[:]\n",
        "list2[1] = 'x'\n",
        "print(list2)\n",
        "print(list1)"
      ]
    },
    {
      "cell_type": "code",
      "execution_count": null,
      "metadata": {
        "id": "pGnqFlcDCJq4",
        "outputId": "a5017192-dbb1-41df-bba5-c8be44684676"
      },
      "outputs": [
        {
          "name": "stdout",
          "output_type": "stream",
          "text": [
            "['c', 'b', ['ab', 'd']]\n",
            "['a', 'b', ['ab', 'd']]\n"
          ]
        }
      ],
      "source": [
        "#COPY WITH SLICE BUT IT CONTAIN SUBLIST\n",
        "lst1 = ['a','b',['ab','ba']]\n",
        "lst2 = lst1[:]\n",
        "lst2[0] = 'c'\n",
        "lst2[2][1] = 'd'\n",
        "print(lst2)\n",
        "print(lst1)"
      ]
    },
    {
      "cell_type": "code",
      "execution_count": null,
      "metadata": {
        "id": "Y1Q8vnteCJq5",
        "outputId": "59a3cead-c6c1-4e56-ec2a-5dac4f191745"
      },
      "outputs": [
        {
          "name": "stdout",
          "output_type": "stream",
          "text": [
            "[1, 2, [7, 5], 4]\n",
            "[1, 2, [7, 5], 4]\n",
            "[1, 2, [3, 5], 4]\n"
          ]
        }
      ],
      "source": [
        "#SHALLOW COPY DEEP COPY\n",
        "\n",
        "import copy \n",
        " # initializing list 1  \n",
        "li1 = [1, 2, [3,5], 4] \n",
        "# using copy for shallow copy   \n",
        "li2 = copy.copy(li1)  \n",
        "# using deepcopy for deepcopy   \n",
        "li3 = copy.deepcopy(li1)  \n",
        "li2[2][0] = 7\n",
        "print(li2)\n",
        "print(li1)\n",
        "print(li3)"
      ]
    },
    {
      "cell_type": "code",
      "execution_count": 89,
      "metadata": {
        "id": "TgbDybPzCJq6",
        "outputId": "db8dd215-0052-4d38-df0b-682891294ccf",
        "colab": {
          "base_uri": "https://localhost:8080/",
          "height": 305
        }
      },
      "outputs": [
        {
          "output_type": "stream",
          "name": "stdout",
          "text": [
            "Counter({'A': 4, 'C': 3, 'T': 2, 'G': 1})\n",
            "4\n",
            "4\n",
            "['C', 'A', 'T', 'T', 'G', 'A', 'C', 'A']\n"
          ]
        },
        {
          "output_type": "error",
          "ename": "NameError",
          "evalue": "ignored",
          "traceback": [
            "\u001b[0;31m---------------------------------------------------------------------------\u001b[0m",
            "\u001b[0;31mNameError\u001b[0m                                 Traceback (most recent call last)",
            "\u001b[0;32m<ipython-input-89-11c6962b60b7>\u001b[0m in \u001b[0;36m<module>\u001b[0;34m()\u001b[0m\n\u001b[1;32m     19\u001b[0m \u001b[0;31m#Copy (DEEP) from original letters to letters2\u001b[0m\u001b[0;34m\u001b[0m\u001b[0;34m\u001b[0m\u001b[0;34m\u001b[0m\u001b[0m\n\u001b[1;32m     20\u001b[0m \u001b[0;34m\u001b[0m\u001b[0m\n\u001b[0;32m---> 21\u001b[0;31m \u001b[0mletters2\u001b[0m\u001b[0;34m=\u001b[0m\u001b[0mcopy\u001b[0m\u001b[0;34m.\u001b[0m\u001b[0mdeepcopy\u001b[0m\u001b[0;34m(\u001b[0m\u001b[0mletters\u001b[0m\u001b[0;34m)\u001b[0m\u001b[0;34m\u001b[0m\u001b[0;34m\u001b[0m\u001b[0m\n\u001b[0m\u001b[1;32m     22\u001b[0m \u001b[0mprint\u001b[0m\u001b[0;34m(\u001b[0m\u001b[0mletters2\u001b[0m\u001b[0;34m)\u001b[0m\u001b[0;34m\u001b[0m\u001b[0;34m\u001b[0m\u001b[0m\n\u001b[1;32m     23\u001b[0m \u001b[0;34m\u001b[0m\u001b[0m\n",
            "\u001b[0;31mNameError\u001b[0m: name 'copy' is not defined"
          ]
        }
      ],
      "source": [
        "#Challenge\n",
        "import collections\n",
        "\n",
        "letters =['A','C','C','A','T','T','G','A','C','A']\n",
        "\n",
        "#Analyze the letters\n",
        "print(collections.Counter(letters))\n",
        "\n",
        "#Count A in letters\n",
        "print(letters.count('A'))\n",
        "\n",
        "#Find out first location of letter\"T\"\n",
        "print(letters.index('T'))\n",
        "\n",
        "\n",
        "#Manipulate the letter\n",
        "print(letters[2:])\n",
        "\n",
        "#Copy (DEEP) from original letters to letters2\n",
        " \n",
        "letters2=copy.deepcopy(letters)\n",
        "print(letters2)\n",
        "\n",
        "#Remove G from letters2\n",
        "letters2.remove('G')\n",
        "print(letters2)\n",
        "\n",
        "#Insert A in index 3 in letters2\n",
        "letters2.insert(3,\"A\")\n",
        "\n",
        "#Reverse the order of new letters\n",
        "letters2.reverse()\n",
        "print(letters2)\n"
      ]
    },
    {
      "cell_type": "code",
      "source": [
        "l = [None] * 10\n",
        "print(len(l))"
      ],
      "metadata": {
        "id": "4vAVwS83DqXR",
        "outputId": "62fb0ffb-6572-4b13-f375-adaaf18a7f7f",
        "colab": {
          "base_uri": "https://localhost:8080/"
        }
      },
      "execution_count": 90,
      "outputs": [
        {
          "output_type": "stream",
          "name": "stdout",
          "text": [
            "10\n"
          ]
        }
      ]
    },
    {
      "cell_type": "code",
      "source": [
        "my_list = [\"Hello\", \"Python\",\"Awesome\"]\n",
        "print(\"-\".join(my_list))"
      ],
      "metadata": {
        "id": "ehMVPk1mEl5u",
        "outputId": "03a86ba2-817f-4695-ff39-67ac7034f5be",
        "colab": {
          "base_uri": "https://localhost:8080/"
        }
      },
      "execution_count": 92,
      "outputs": [
        {
          "output_type": "stream",
          "name": "stdout",
          "text": [
            "Hello-Python-Awesome\n"
          ]
        }
      ]
    },
    {
      "cell_type": "code",
      "source": [
        "aList = [5, 10, 15, 25,30]\n",
        "print(aList[::3])#[start:stop:skip]"
      ],
      "metadata": {
        "id": "VXFpCApgE4tj",
        "outputId": "b897c4e1-71fd-4a5e-87b0-3fad2c6a75e1",
        "colab": {
          "base_uri": "https://localhost:8080/"
        }
      },
      "execution_count": 96,
      "outputs": [
        {
          "output_type": "stream",
          "name": "stdout",
          "text": [
            "[5, 25]\n"
          ]
        }
      ]
    },
    {
      "cell_type": "code",
      "source": [
        "aList = [5, 10, 15, 25,30]\n",
        "print(aList[::-3])#[start:stop:skip]"
      ],
      "metadata": {
        "id": "8o1fGlNKFS5q",
        "outputId": "2b9e4f06-02b0-4afc-b3c2-728a10fb935e",
        "colab": {
          "base_uri": "https://localhost:8080/"
        }
      },
      "execution_count": 99,
      "outputs": [
        {
          "output_type": "stream",
          "name": "stdout",
          "text": [
            "[30, 10]\n"
          ]
        }
      ]
    },
    {
      "cell_type": "code",
      "source": [
        "aList = [5, 10, 15, 25]\n",
        "print(aList[::-2])"
      ],
      "metadata": {
        "id": "p6K2QF0UFsKD",
        "outputId": "e587b4be-c588-4525-c792-b621ab933f6e",
        "colab": {
          "base_uri": "https://localhost:8080/"
        }
      },
      "execution_count": 100,
      "outputs": [
        {
          "output_type": "stream",
          "name": "stdout",
          "text": [
            "[25, 10]\n"
          ]
        }
      ]
    },
    {
      "cell_type": "code",
      "source": [
        "import copy\n",
        "aList = ['a', 'b', 'c', 'd']\n",
        "#newList = list(aList)\n",
        "newList = copy(aList)\n",
        "newList = aList.copy()\n",
        "newList.copy(aList)\n",
        "newList = list(aList)\n",
        "newList2=copy.copy(aList)\n",
        "newList2"
      ],
      "metadata": {
        "id": "6u66m2skG41E",
        "outputId": "b937bb42-6430-4499-b62e-ae0f449aebef",
        "colab": {
          "base_uri": "https://localhost:8080/"
        }
      },
      "execution_count": 106,
      "outputs": [
        {
          "output_type": "execute_result",
          "data": {
            "text/plain": [
              "['a', 'b', 'c', 'd']"
            ]
          },
          "metadata": {},
          "execution_count": 106
        }
      ]
    },
    {
      "cell_type": "code",
      "source": [
        "a=aList.copy()\n",
        "a"
      ],
      "metadata": {
        "id": "IWU9-QjfHciB",
        "outputId": "e578ab19-d0a5-47c8-af60-cb436540b5be",
        "colab": {
          "base_uri": "https://localhost:8080/"
        }
      },
      "execution_count": 108,
      "outputs": [
        {
          "output_type": "execute_result",
          "data": {
            "text/plain": [
              "['a', 'b', 'c', 'd']"
            ]
          },
          "metadata": {},
          "execution_count": 108
        }
      ]
    },
    {
      "cell_type": "markdown",
      "metadata": {
        "id": "TSqysSBtCJq6"
      },
      "source": [
        "# Tuple"
      ]
    },
    {
      "cell_type": "code",
      "execution_count": null,
      "metadata": {
        "colab": {
          "base_uri": "https://localhost:8080/"
        },
        "id": "vMqgcQKSCJq7",
        "outputId": "c544ec1e-b07f-4821-ff4b-137dde115103"
      },
      "outputs": [
        {
          "name": "stdout",
          "output_type": "stream",
          "text": [
            "('apples', 'bananas', 'oranges')\n",
            "['apples', 'bananas', 'oranges']\n",
            "['Berries', 'bananas', 'oranges']\n"
          ]
        }
      ],
      "source": [
        "#Tuple\n",
        "a1 = (\"apples\", \"bananas\", \"oranges\")\n",
        "print(a1)\n",
        "\n",
        "#list\n",
        "b1 = [\"apples\", \"bananas\", \"oranges\"]\n",
        "print(b1)\n",
        "#Difference between tuple and list\n",
        "b1[0]=\"Berries\"\n",
        "print(b1)\n"
      ]
    },
    {
      "cell_type": "code",
      "execution_count": null,
      "metadata": {
        "colab": {
          "base_uri": "https://localhost:8080/"
        },
        "id": "RugC-ZBfCJq7",
        "outputId": "0364ccb0-2997-45d2-c91c-9ea7c83f0fc0"
      },
      "outputs": [
        {
          "name": "stdout",
          "output_type": "stream",
          "text": [
            "tup1[0]:  physics\n",
            "tup2[1:5]:  (2, 3, 4, 5)\n"
          ]
        }
      ],
      "source": [
        "#Accessing Tuples\n",
        "tup1 = ('physics', 'chemistry', 1997, 2000)\n",
        "tup2 = (1, 2, 3, 4, 5, 6, 7 )\n",
        "print (\"tup1[0]: \", tup1[0])\n",
        "print (\"tup2[1:5]: \", tup2[1:5])"
      ]
    },
    {
      "cell_type": "code",
      "execution_count": null,
      "metadata": {
        "colab": {
          "base_uri": "https://localhost:8080/",
          "height": 218
        },
        "id": "TqXYXgYtCJq8",
        "outputId": "23c08e5a-e6dd-466a-83bc-dbcd4535e90e"
      },
      "outputs": [
        {
          "ename": "TypeError",
          "evalue": "ignored",
          "output_type": "error",
          "traceback": [
            "\u001b[0;31m---------------------------------------------------------------------------\u001b[0m",
            "\u001b[0;31mTypeError\u001b[0m                                 Traceback (most recent call last)",
            "\u001b[0;32m<ipython-input-23-db2143b79187>\u001b[0m in \u001b[0;36m<module>\u001b[0;34m()\u001b[0m\n\u001b[1;32m      1\u001b[0m \u001b[0;31m#Updating Tuples\u001b[0m\u001b[0;34m\u001b[0m\u001b[0;34m\u001b[0m\u001b[0;34m\u001b[0m\u001b[0m\n\u001b[1;32m      2\u001b[0m \u001b[0mtup\u001b[0m\u001b[0;34m=\u001b[0m\u001b[0;34m(\u001b[0m\u001b[0;36m12\u001b[0m\u001b[0;34m,\u001b[0m\u001b[0;36m34.56\u001b[0m\u001b[0;34m)\u001b[0m\u001b[0;34m\u001b[0m\u001b[0;34m\u001b[0m\u001b[0m\n\u001b[0;32m----> 3\u001b[0;31m \u001b[0mtup\u001b[0m\u001b[0;34m[\u001b[0m\u001b[0;36m0\u001b[0m\u001b[0;34m]\u001b[0m\u001b[0;34m=\u001b[0m\u001b[0;36m100\u001b[0m\u001b[0;34m\u001b[0m\u001b[0;34m\u001b[0m\u001b[0m\n\u001b[0m\u001b[1;32m      4\u001b[0m \u001b[0mprint\u001b[0m\u001b[0;34m(\u001b[0m\u001b[0mtup\u001b[0m\u001b[0;34m)\u001b[0m\u001b[0;34m\u001b[0m\u001b[0;34m\u001b[0m\u001b[0m\n",
            "\u001b[0;31mTypeError\u001b[0m: 'tuple' object does not support item assignment"
          ]
        }
      ],
      "source": [
        "#Updating Tuples\n",
        "tup=(12,34.56)\n",
        "tup[0]=100\n",
        "print(tup)"
      ]
    },
    {
      "cell_type": "code",
      "execution_count": null,
      "metadata": {
        "colab": {
          "base_uri": "https://localhost:8080/"
        },
        "id": "gjXz0vrVCJq8",
        "outputId": "ffdb732d-2a5f-4472-ba6e-3dcee2c0694e"
      },
      "outputs": [
        {
          "name": "stdout",
          "output_type": "stream",
          "text": [
            "3\n",
            "('apples', 'bananas', 'oranges', 1, 2, 3)\n",
            "('apples', 'bananas', 'oranges', 'apples', 'bananas', 'oranges')\n",
            "True\n",
            "1\n",
            "2\n",
            "3\n"
          ]
        }
      ],
      "source": [
        "#TUPLE OPERATIONS\n",
        "a2=(\"apples\", \"bananas\", \"oranges\")\n",
        "a3=(1,2,3)\n",
        "print(len(a2))#length\n",
        "print(a2+a3)#concatenation\n",
        "print(a2*2)#Repetition\n",
        "print('apples' in a2)#Membership\n",
        "for x in (1,2,3):\n",
        "    print(x)# iteration\n"
      ]
    },
    {
      "cell_type": "code",
      "execution_count": null,
      "metadata": {
        "colab": {
          "base_uri": "https://localhost:8080/"
        },
        "id": "1i7RmUZ1CJq9",
        "outputId": "1bf98a43-7902-466c-b5f8-cff17ac75633"
      },
      "outputs": [
        {
          "name": "stdout",
          "output_type": "stream",
          "text": [
            "First tuple length :  3\n",
            "Second tuple length :  2\n",
            "min value element :  bio\n",
            "min value element :  200\n",
            "Max value element :  phy\n",
            "Max value element :  700\n",
            "tuple elements :  ('maths', 'che', 'phy', 'bio')\n"
          ]
        }
      ],
      "source": [
        "#BUILD IN TUPLE FUNCTIONS\n",
        "tuple1, tuple2 = (123, 'xyz', 'zara'), (456, 'abc')\n",
        "print (\"First tuple length : \", len(tuple1))\n",
        "print (\"Second tuple length : \", len(tuple2))\n",
        "tuple1, tuple2 = ('maths', 'che', 'phy', 'bio'), (456, 700, 200)\n",
        "print (\"min value element : \", min(tuple1))\n",
        "print (\"min value element : \", min(tuple2))\n",
        "tuple1, tuple2 = ('maths', 'che', 'phy', 'bio'), (456, 700, 200)\n",
        "print (\"Max value element : \", max(tuple1))\n",
        "print (\"Max value element : \", max(tuple2))\n",
        "list1 = ['maths', 'che', 'phy', 'bio']\n",
        "tuple1 = tuple(list1)\n",
        "print (\"tuple elements : \", tuple1)"
      ]
    },
    {
      "cell_type": "code",
      "execution_count": null,
      "metadata": {
        "id": "IlcdmNd-CJq9",
        "outputId": "618fbaaa-2a9f-4184-b4ef-e97474f495f0"
      },
      "outputs": [
        {
          "name": "stdout",
          "output_type": "stream",
          "text": [
            "(1, 2, 3, 4, 5)\n",
            "(6, 7, 8, 9, 10)\n"
          ]
        }
      ],
      "source": [
        "#Challenge\n",
        "#With a given tuple (1, 2, 3, 4, 5, 6, 7, 8, 9, 10)\n",
        "#Write a program to print the first half values in one line and the last half values in one line.\n",
        "tp=(1,2,3,4,5,6,7,8,9,10)\n",
        "\n",
        "tp1=tp[:5]\n",
        "\n",
        "tp2=tp[5:]\n",
        "\n",
        "print(tp1)\n",
        "\n",
        "print(tp2)"
      ]
    },
    {
      "cell_type": "markdown",
      "metadata": {
        "id": "9fuk0GMNCJq-"
      },
      "source": [
        "# Dictionary"
      ]
    },
    {
      "cell_type": "code",
      "execution_count": null,
      "metadata": {
        "id": "M05xWSSOCJq-"
      },
      "outputs": [],
      "source": [
        "d1 = dict(a=1, b=2)\n",
        "d2 = {'a': 1, 'b': -1}\n",
        "d3 = dict(zip(['a', 'b'], [1, 2]))\n",
        "d4 = dict([('a', 1), ('b', 3)])\n",
        "d5 = dict({'b': 2, 'a': 1})"
      ]
    },
    {
      "cell_type": "code",
      "execution_count": null,
      "metadata": {
        "colab": {
          "base_uri": "https://localhost:8080/"
        },
        "id": "PZ4lQjT4CJq-",
        "outputId": "f61fb0fe-61de-43ac-ce79-39ac0ef36ac0"
      },
      "outputs": [
        {
          "name": "stdout",
          "output_type": "stream",
          "text": [
            "{'a': 1, 'b': 2}\n",
            "{'a': 1, 'b': -1}\n",
            "{'a': 1, 'b': 2}\n",
            "{'a': 1, 'b': 3}\n",
            "{'b': 2, 'a': 1}\n"
          ]
        }
      ],
      "source": [
        "print(d1)\n",
        "print(d2)\n",
        "print(d3)\n",
        "print(d4)\n",
        "print(d5)"
      ]
    },
    {
      "cell_type": "code",
      "execution_count": null,
      "metadata": {
        "id": "0g32an0_CJq_",
        "outputId": "2921e511-a615-4001-b5a9-0393b5a9021e"
      },
      "outputs": [
        {
          "name": "stdout",
          "output_type": "stream",
          "text": [
            "dict1['Name']:  Zara\n",
            "dict1['Age']:  7\n"
          ]
        }
      ],
      "source": [
        "#Accessing Values in Dictionary\n",
        "dict1 = {'Name': 'Zara', 'Age': 7, 'Class':'First'}\n",
        "print (\"dict1['Name']: \", dict1['Name'])\n",
        "print (\"dict1['Age']: \", dict1['Age'])"
      ]
    },
    {
      "cell_type": "code",
      "execution_count": null,
      "metadata": {
        "id": "nkJzfT-ECJq_",
        "outputId": "6e2c4077-bb7e-414e-fd6d-4554ec72ad39"
      },
      "outputs": [
        {
          "name": "stdout",
          "output_type": "stream",
          "text": [
            "dict1['Age']:  8\n",
            "dict1['School']:  DPS School\n"
          ]
        }
      ],
      "source": [
        "#Update Dictionary\n",
        "dict1 = {'Name': 'Zara', 'Age': 7, 'Class': 'First'}\n",
        "dict1['Age'] = 8 # update existing entry\n",
        "dict1['School'] = \"DPS School\" # Add new entry\n",
        "\n",
        "print (\"dict1['Age']: \", dict1['Age'])\n",
        "print (\"dict1['School']: \", dict1['School'])"
      ]
    },
    {
      "cell_type": "code",
      "execution_count": null,
      "metadata": {
        "id": "5XBHC1d5CJq_",
        "outputId": "8777ba87-fac9-486c-dca1-9cf133d5d703"
      },
      "outputs": [
        {
          "name": "stdout",
          "output_type": "stream",
          "text": [
            "{'Age': 7, 'Class': 'First'}\n",
            "{}\n"
          ]
        },
        {
          "ename": "NameError",
          "evalue": "name 'dict1' is not defined",
          "output_type": "error",
          "traceback": [
            "\u001b[1;31m---------------------------------------------------------------------------\u001b[0m",
            "\u001b[1;31mNameError\u001b[0m                                 Traceback (most recent call last)",
            "\u001b[1;32m<ipython-input-89-f1fe13a6a80e>\u001b[0m in \u001b[0;36m<module>\u001b[1;34m\u001b[0m\n\u001b[0;32m      6\u001b[0m \u001b[0mprint\u001b[0m\u001b[1;33m(\u001b[0m\u001b[0mdict1\u001b[0m\u001b[1;33m)\u001b[0m\u001b[1;33m\u001b[0m\u001b[1;33m\u001b[0m\u001b[0m\n\u001b[0;32m      7\u001b[0m \u001b[1;32mdel\u001b[0m \u001b[0mdict1\u001b[0m \u001b[1;31m# delete entire dictionary\u001b[0m\u001b[1;33m\u001b[0m\u001b[1;33m\u001b[0m\u001b[0m\n\u001b[1;32m----> 8\u001b[1;33m \u001b[0mprint\u001b[0m\u001b[1;33m(\u001b[0m\u001b[0mdict1\u001b[0m\u001b[1;33m)\u001b[0m\u001b[1;33m\u001b[0m\u001b[1;33m\u001b[0m\u001b[0m\n\u001b[0m",
            "\u001b[1;31mNameError\u001b[0m: name 'dict1' is not defined"
          ]
        }
      ],
      "source": [
        "#Delete Dictionary\n",
        "dict1 = {'Name': 'Zara', 'Age': 7, 'Class': 'First'}\n",
        "del dict1['Name'] # remove entry with key 'Name'\n",
        "print(dict1)\n",
        "dict1.clear() # remove all entries in dict\n",
        "print(dict1)\n",
        "del dict1 # delete entire dictionary\n",
        "print(dict1)"
      ]
    },
    {
      "cell_type": "code",
      "execution_count": null,
      "metadata": {
        "colab": {
          "base_uri": "https://localhost:8080/"
        },
        "id": "pNqyf37HCJrA",
        "outputId": "04b23129-2938-4d8b-de41-08551926820c"
      },
      "outputs": [
        {
          "name": "stdout",
          "output_type": "stream",
          "text": [
            "16\n",
            "16\n",
            "{1: 1, 2: 4, 3: 9, 5: 25}\n",
            "(5, 25)\n",
            "{1: 1, 2: 4, 3: 9}\n",
            "{1: 1, 2: 4}\n"
          ]
        }
      ],
      "source": [
        "#Dictionary Buil-In Functions\n",
        "\n",
        "# create a dictionary\n",
        "squares = {1:1, 2:4, 3:9, 4:16, 5:25} \n",
        "# remove a particular item\n",
        "# Output: 16\n",
        "print(squares[4])\n",
        "print(squares.pop(4))  \n",
        "\n",
        "# Output: {1: 1, 2: 4, 3: 9, 5: 25}\n",
        "print(squares)\n",
        "\n",
        "# remove an arbitrary item\n",
        "# Output: (1, 1)\n",
        "print(squares.popitem())\n",
        "\n",
        "# Output: {2: 4, 3: 9, 5: 25}\n",
        "print(squares)\n",
        "\n",
        "del squares[3]\n",
        "print(squares)"
      ]
    },
    {
      "cell_type": "code",
      "execution_count": null,
      "metadata": {
        "id": "BKhQ3g7CCJrA",
        "outputId": "8c48dce2-55b8-4bf1-c437-4585618d3815"
      },
      "outputs": [
        {
          "name": "stdout",
          "output_type": "stream",
          "text": [
            "{'name': 'Jack', 'age': 27}\n",
            "{'name': 'Jack', 'age': 27, 'address': 'Downtown'}\n",
            "Name:  Phill\n",
            "Age:  22\n",
            "Salary:  None\n",
            "Salary:  10\n",
            "{'name': 'Phill', 'age': 22}\n"
          ]
        }
      ],
      "source": [
        "#insert and update elements in a dictionary\n",
        "my_dict = {'name':'Jack', 'age': 26}\n",
        "\n",
        "# update value\n",
        "my_dict['age'] = 27\n",
        "\n",
        "#Output: {'age': 27, 'name': 'Jack'}\n",
        "print(my_dict)\n",
        "\n",
        "# add item\n",
        "my_dict['address'] = 'Downtown'  \n",
        "print(my_dict)\n",
        "\n",
        "\n",
        "#get in dictionary\n",
        "person = {'name': 'Phill', 'age': 22}\n",
        "\n",
        "print('Name: ', person.get('name'))\n",
        "print('Age: ', person.get('age'))\n",
        "\n",
        "# value is not provided\n",
        "print('Salary: ', person.get('salary'))\n",
        "\n",
        "# value is provided\n",
        "print('Salary: ', person.get('salary', 10))\n",
        "print(person)"
      ]
    },
    {
      "cell_type": "code",
      "execution_count": null,
      "metadata": {
        "colab": {
          "base_uri": "https://localhost:8080/"
        },
        "id": "4C74qhIyCJrA",
        "outputId": "696e0143-2cf9-463f-8a9d-d2430ee58d3f"
      },
      "outputs": [
        {
          "name": "stdout",
          "output_type": "stream",
          "text": [
            "{'Hello': 56, 'at': 200, 'test': 43, 'this': 43, 'who': [56, 34, 44, 222]}\n",
            "{'Hello': 56, 'at': 23, 'test': 43, 'this': 43, 'who': [56, 34, 44, 222]}\n",
            "{'Hello': 56, 'at': 200, 'test': 43, 'this': 43, 'who': [56, 34, 44, 100]}\n",
            "{'Hello': 56, 'at': 23, 'test': 43, 'this': 43, 'who': [56, 34, 44]}\n"
          ]
        }
      ],
      "source": [
        "#Copy in DIctionary\n",
        "#copy in dictionary\n",
        "#SHALLOW COPY\n",
        "wordsDict = {\n",
        "    \"Hello\": 56,\n",
        "    \"at\" : 23 ,\n",
        "    \"test\" : 43,\n",
        "    \"this\" : 43,\n",
        "    \"who\" : [56, 34, 44]\n",
        "    }\n",
        "newDict = wordsDict.copy()\n",
        "newDict[\"at\"] = 200\n",
        "newDict[\"who\"].append(222)\n",
        "print(newDict)\n",
        "print(wordsDict)\n",
        "#Deep copy in dictionary\n",
        "from copy import deepcopy\n",
        "wordsDict = {\n",
        "    \"Hello\": 56,\n",
        "    \"at\" : 23 ,\n",
        "    \"test\" : 43,\n",
        "    \"this\" : 43,\n",
        "    \"who\" : [56, 34, 44]\n",
        "    }\n",
        "# Create a deep copy of the dictionary\n",
        "newDict = deepcopy(wordsDict)\n",
        "newDict[\"at\"] = 200\n",
        "newDict[\"who\"].append(100)\n",
        "print(newDict)\n",
        "print(wordsDict)\n"
      ]
    },
    {
      "cell_type": "code",
      "execution_count": null,
      "metadata": {
        "colab": {
          "base_uri": "https://localhost:8080/"
        },
        "id": "1OR5sDp9CJrB",
        "outputId": "a161442b-00a6-47c9-ffe7-b2f2758d3a8d"
      },
      "outputs": [
        {
          "name": "stdout",
          "output_type": "stream",
          "text": [
            "green\n",
            "{'banana': 'yellow', 'cherry': 'red'}\n",
            "{'banana': 'yellow', 'cherry': 'red', 'durian': 'green'}\n",
            "3\n",
            "{'banana': 'yellow', 'cherry': 'red', 'durian': 'green', 'grapes': 'green'}\n",
            "{'banana': 'yellow', 'cherry': 'red', 'durian': 'green', 'grapes': 'green'}\n",
            "{'banana': 'yellow', 'cherry': 'red', 'durian': 'green', 'grapes': 'purple'}\n",
            "{'banana': 'yellow', 'cherry': 'red', 'durian': 'green', 'grapes': 'green'}\n"
          ]
        }
      ],
      "source": [
        "#Challenge\n",
        "import copy\n",
        "from copy import deepcopy\n",
        "\n",
        "thisdict = {'apple':\"green\", 'banana':\"yellow\", 'cherry':\"red\"}\n",
        "\n",
        "#Remove apple\n",
        "print(thisdict.pop('apple'))\n",
        "print(thisdict)\n",
        "\n",
        "#Add durian\n",
        "thisdict['durian']=\"green\"\n",
        "print(thisdict)\n",
        "\n",
        "#How many elements?\n",
        "print(len(thisdict))\n",
        "\n",
        "\n",
        "#Create a shallow copy\n",
        "newDict = thisdict\n",
        "newDict[\"grapes\"] = \"green\"\n",
        "print(newDict)\n",
        "print(thisdict)\n",
        "\n",
        "#Create a deep copy\n",
        "newDict1 = deepcopy(thisdict)\n",
        "#alternative can use the below one\n",
        "#newDict1 = thisdict.copy()\n",
        "newDict1[\"grapes\"] = \"purple\"\n",
        "print(newDict1)\n",
        "print(thisdict)"
      ]
    },
    {
      "cell_type": "markdown",
      "metadata": {
        "id": "rHZA1_YFCJrB"
      },
      "source": [
        "# Set"
      ]
    },
    {
      "cell_type": "code",
      "execution_count": null,
      "metadata": {
        "id": "kYtsd0LzCJrB"
      },
      "outputs": [],
      "source": [
        "#SET\n",
        "A = {1, 2, 3}\n",
        "B = {1, 2, 3, 4, 5}\n",
        "C = {1, 2, 4, 5}"
      ]
    },
    {
      "cell_type": "code",
      "execution_count": null,
      "metadata": {
        "id": "8qzhko6uCJrC",
        "colab": {
          "base_uri": "https://localhost:8080/"
        },
        "outputId": "74e66a73-b75b-422b-e9c4-3a9a7ec89aa0"
      },
      "outputs": [
        {
          "output_type": "stream",
          "name": "stdout",
          "text": [
            "True\n",
            "False\n",
            "{1, 2, 3}\n",
            "{1, 2, 3, 4, 5}\n",
            "{3}\n",
            "False\n",
            "True\n",
            "True\n"
          ]
        }
      ],
      "source": [
        "#Built in functions\n",
        "\n",
        "print(A.issubset(B))\n",
        "print(B.issubset(A))\n",
        "print(A.intersection(B))# This can be print(A & B)\n",
        "print(A.union(B)) #This can be  print(A | B)\n",
        "print(A.difference(C))#This can be  print(A - B)\n",
        "print(A in B)\n",
        "print(B not in A)\n",
        "print(B.issuperset(A))\n"
      ]
    },
    {
      "cell_type": "code",
      "execution_count": null,
      "metadata": {
        "id": "h99e0cxHCJrC",
        "colab": {
          "base_uri": "https://localhost:8080/"
        },
        "outputId": "e100cc31-ef5c-441c-b650-441447e9b36e"
      },
      "outputs": [
        {
          "output_type": "stream",
          "name": "stdout",
          "text": [
            "{'Sam', 'Jack', 'Susan', 'Zack', 'John', 'Jane', 'Janice'}\n",
            "{'Jane', 'Jack'}\n"
          ]
        }
      ],
      "source": [
        "#Challenge\n",
        "engineers = set(['John', 'Jane', 'Jack', 'Janice'])\n",
        "programmers = set(['Jack', 'Sam', 'Susan', 'Janice'])\n",
        "managers = set(['Jane', 'Jack', 'Susan', 'Zack'])\n",
        "\n",
        "\n",
        "#Who are employees?\n",
        "employees = engineers | programmers | managers   \n",
        "print(employees)\n",
        "\n",
        "#Who are engineers and managers?\n",
        "engineering_management = engineers & managers   \n",
        "print(engineering_management)"
      ]
    },
    {
      "cell_type": "markdown",
      "metadata": {
        "id": "nmXzkxONCJrC"
      },
      "source": [
        "# Strings"
      ]
    },
    {
      "cell_type": "code",
      "execution_count": null,
      "metadata": {
        "id": "1KVt6RiKCJrC"
      },
      "outputs": [],
      "source": [
        "a = \"Hello\"\n",
        "b = \"Python\"\n",
        "print(a)\n",
        "print(b)"
      ]
    },
    {
      "cell_type": "code",
      "execution_count": null,
      "metadata": {
        "colab": {
          "base_uri": "https://localhost:8080/"
        },
        "id": "sqiuWnglCJrD",
        "outputId": "2dfb3cd2-c208-46d8-8ab1-1b3c9ddbd739"
      },
      "outputs": [
        {
          "name": "stdout",
          "output_type": "stream",
          "text": [
            "var1[0]:  H\n",
            "var2[1:5]:  ytho\n"
          ]
        }
      ],
      "source": [
        "var1 = 'Hello World!'\n",
        "var2 = \"Python Programming\"\n",
        "print (\"var1[0]: \", var1[0])\n",
        "print (\"var2[1:5]: \", var2[1:5])"
      ]
    },
    {
      "cell_type": "code",
      "execution_count": null,
      "metadata": {
        "colab": {
          "base_uri": "https://localhost:8080/"
        },
        "id": "wUq9U4MxCJrD",
        "outputId": "a9317d31-3f09-4997-d5e6-cfa1e7933d80"
      },
      "outputs": [
        {
          "name": "stdout",
          "output_type": "stream",
          "text": [
            "str1 + str2 =  Hello  World!\n",
            "str1 * 3 = HelloHelloHello\n",
            "3 letters found\n",
            "True\n",
            "False\n"
          ]
        }
      ],
      "source": [
        "#string concatenation\n",
        "str1 = 'Hello'\n",
        "str2 ='World!'\n",
        "\n",
        "# using +\n",
        "print('str1 + str2 = ', str1 + \"  \" +str2)\n",
        "\n",
        "# using *\n",
        "print('str1 * 3 =', str1 * 3)\n",
        "\n",
        "#string Iteration\n",
        "count = 0\n",
        "for letter in 'Hello World':\n",
        "    if(letter == 'l'): # == means checking for letter H\n",
        "        count += 1 #equal to Count = Count+1\n",
        "print(count,'letters found')\n",
        "\n",
        "\n",
        "\n",
        "#string membership\n",
        "print('a' in 'program')\n",
        "print('at' not in 'battle')"
      ]
    },
    {
      "cell_type": "code",
      "execution_count": null,
      "metadata": {
        "colab": {
          "base_uri": "https://localhost:8080/"
        },
        "id": "vRQNPryOCJrD",
        "outputId": "4c8fb032-51f3-4bae-a130-f94748bb26fe"
      },
      "outputs": [
        {
          "name": "stdout",
          "output_type": "stream",
          "text": [
            "Saranya\n",
            "15\n",
            "15\n",
            "-1\n",
            "True\n",
            "True\n",
            "thwas was string example....wow!!! thwas was really string\n",
            "thwas was string example....wow!!! thwas is really string\n",
            "['Line1-abcdef', 'Line2-abc', 'Line4-abcd']\n",
            "['Line1-abcdef', '\\nLine2-abc \\nLine4-abcd']\n",
            "THIS IS STRING EXAMPLE....WOW!!!\n",
            "this is string example....wow!!!\n",
            "This Is String Example....Wow!!!\n"
          ]
        }
      ],
      "source": [
        "#other string functions\n",
        "st=\"saranya\"\n",
        "print(st.capitalize())\n",
        "#find the position\n",
        "str1 = \"this is string example....wow!!!\";\n",
        "str2 = \"exam\";\n",
        "print(str1.find(str2))\n",
        "print(str1.find(str2, 9))\n",
        "print(str1.find(str2, 20))\n",
        "# checks endswith\n",
        "str = \"this is string example....wow!!!\";\n",
        "suffix = \"wow!!!\";\n",
        "print(str.endswith(suffix))\n",
        "print(str.endswith(suffix,20))\n",
        "\n",
        "#replace\n",
        "str = \"this is string example....wow!!! this is really string\"\n",
        "print(str.replace(\"is\", \"was\"))\n",
        "print(str.replace(\"is\", \"was\", 3))\n",
        "#split\n",
        "str = \"Line1-abcdef \\nLine2-abc \\nLine4-abcd\";\n",
        "print(str.split( ))\n",
        "print(str.split(' ', 1 ))\n",
        "#swapcase\n",
        "str = \"this is string example....wow!!!\";\n",
        "print(str.swapcase())\n",
        "str = \"THIS IS STRING EXAMPLE....WOW!!!\";\n",
        "print(str.swapcase())\n",
        "#Title\n",
        "str = \"this is string example....wow!!!\";\n",
        "print(str.title())"
      ]
    },
    {
      "cell_type": "code",
      "execution_count": null,
      "metadata": {
        "colab": {
          "base_uri": "https://localhost:8080/"
        },
        "id": "gkbqHMKcCJrE",
        "outputId": "e7eece9a-9943-4d52-8184-eaeedfb3fe89"
      },
      "outputs": [
        {
          "name": "stdout",
          "output_type": "stream",
          "text": [
            "Hello, John!\n",
            "Hello, John!\n",
            "John is 23 years old.\n",
            "A list: [1, 2, 3]\n",
            "3.4567 + 4 = 7.4567\n",
            "4 + 3.4567 = 7.4567\n",
            "3.46 + 4.00 = 7.46\n",
            "3.46 + 4.00 = 7.46\n"
          ]
        }
      ],
      "source": [
        "#String Formatting\n",
        "name = \"John\"\n",
        "print(\"Hello, %s!\" % name) #Formatting %s - string, %d - number, %f - float\n",
        "print(\"Hello, {}!\" .format(name))#better use this as an adpatable format\n",
        "\n",
        "\n",
        "#Old Style\n",
        "template = \"%s is %d years old.\"\n",
        "name = \"John\"\n",
        "age = 23\n",
        "print(template % (name, age)) # This prints out \"John is 23 years old.\"\n",
        "\n",
        "template = \"A list: %s\"\n",
        "mylist = [1,2,3]\n",
        "print(template % mylist)\n",
        "\n",
        "#New Style\n",
        "template = \"{} + {} = {}\"\n",
        "a = 3.4567\n",
        "b = 4\n",
        "c = a +b\n",
        "print(template.format (a, b, c))\n",
        "\n",
        "template = \"{1} + {0} = {2}\"\n",
        "print(template.format(a, b, c))\n",
        "\n",
        "\n",
        "template = \"{:0.2f} + {:0.2f} = {:0.2f}\"\n",
        "print(template.format (a, b, c))\n",
        "\n",
        "template = \"{0:0.2f} + {1:0.2f} = {2:0.2f}\"\n",
        "print(template.format (a, b, c))"
      ]
    },
    {
      "cell_type": "code",
      "execution_count": null,
      "metadata": {
        "id": "8x4Pz8AvCJrE",
        "colab": {
          "base_uri": "https://localhost:8080/"
        },
        "outputId": "611bce8e-b9e7-4b86-eb5c-671a7e215179"
      },
      "outputs": [
        {
          "output_type": "stream",
          "name": "stdout",
          "text": [
            "['abc', 'def.com']\n"
          ]
        }
      ],
      "source": [
        "#Challenge\n",
        "\n",
        "a = 'abc@def.com'\n",
        "#Print out the user name and domain name\n",
        "print(a.split('@'))\n"
      ]
    },
    {
      "cell_type": "code",
      "execution_count": null,
      "metadata": {
        "colab": {
          "base_uri": "https://localhost:8080/"
        },
        "id": "_3CJRCcRCJrF",
        "outputId": "dda2362b-2c6e-4f42-f636-27a8823e610f"
      },
      "outputs": [
        {
          "name": "stdout",
          "output_type": "stream",
          "text": [
            "Hello John Doe. Your current balance is $53.44.\n",
            "Hello John Doe Your current balance is 53.44\n"
          ]
        }
      ],
      "source": [
        "#Challenge\n",
        "\n",
        "#You have to write a format string which prints out the following sentence:\n",
        "\n",
        "#Hello John Doe. Your current balance is $53.44\n",
        "\n",
        "#Given this data tuple\n",
        "data = (\"John\", \"Doe\", 53.44)\n",
        "format_string = \"Hello %s %s. Your current balance is $%s.\"\n",
        "print(format_string % data)\n",
        "#OR\n",
        "data=(\"John\",\"Doe\",53.44)\n",
        "format_string=\"Hello\"\n",
        "print(\"{0} {1} {2} Your current balance is {3}\".format(format_string,*data))# *data unpacks the content of data"
      ]
    },
    {
      "cell_type": "code",
      "execution_count": null,
      "metadata": {
        "id": "hWegncW3CJrF",
        "colab": {
          "base_uri": "https://localhost:8080/"
        },
        "outputId": "bffde780-ff5a-4e02-bbec-45f766cbf07c"
      },
      "outputs": [
        {
          "output_type": "stream",
          "name": "stdout",
          "text": [
            "The capital of France is paris\n"
          ]
        }
      ],
      "source": [
        "#Challenge\n",
        "\n",
        "country = \"France\"\n",
        "capital = \"paris\"\n",
        "\n",
        "#Print out the following sentence using {} method\n",
        "#The capital of FRANCE is Paris\n",
        "\n",
        "print(\"The capital of {0} is {1}\".format(country,capital))\n"
      ]
    },
    {
      "cell_type": "markdown",
      "metadata": {
        "id": "s3dwrZN0CJrF"
      },
      "source": [
        "# Operators"
      ]
    },
    {
      "cell_type": "code",
      "execution_count": null,
      "metadata": {
        "id": "D-i4dvEgCJrG",
        "colab": {
          "base_uri": "https://localhost:8080/"
        },
        "outputId": "8ab3e088-1947-4084-f405-7f8be2c81c84"
      },
      "outputs": [
        {
          "output_type": "stream",
          "name": "stdout",
          "text": [
            "19\n",
            "11\n",
            "60\n",
            "3.75\n",
            "3\n",
            "50625\n"
          ]
        }
      ],
      "source": [
        " #1: Arithmetic operators in Python\n",
        "x = 15\n",
        "y = 4\n",
        "print(x+y)\n",
        "print(x-y)\n",
        "print(x*y)\n",
        "print(x/y)\n",
        "print(x//y)\n",
        "print(x**y) #15 to the power of 4\n"
      ]
    },
    {
      "cell_type": "code",
      "execution_count": null,
      "metadata": {
        "id": "J0wN0xO8CJrG",
        "colab": {
          "base_uri": "https://localhost:8080/"
        },
        "outputId": "5b3b223b-c98e-4ee4-d881-38e2ebd24c1e"
      },
      "outputs": [
        {
          "output_type": "stream",
          "name": "stdout",
          "text": [
            "False\n",
            "True\n",
            "False\n",
            "True\n",
            "False\n",
            "True\n"
          ]
        }
      ],
      "source": [
        "#2: Comparison operators in Python\n",
        "x = 10\n",
        "y = 12\n",
        "print(x>y)#False\n",
        "print(x<y)#true\n",
        "print(x==y)#false\n",
        "print(x!=y)#true\n",
        "print(x>=y)#false\n",
        "print(x<=y)#true"
      ]
    },
    {
      "cell_type": "code",
      "execution_count": null,
      "metadata": {
        "colab": {
          "base_uri": "https://localhost:8080/"
        },
        "id": "5pfnv9vNCJrG",
        "outputId": "60f89d35-11ac-4250-d9f3-6f6d0d820f91"
      },
      "outputs": [
        {
          "name": "stdout",
          "output_type": "stream",
          "text": [
            "False\n",
            "True\n",
            "False\n"
          ]
        }
      ],
      "source": [
        "#3: Logical Operators in Python\n",
        "x = True\n",
        "y = False\n",
        "print(x and y)#false\n",
        "print(x or y)#true\n",
        "print(not x)#false\n"
      ]
    },
    {
      "cell_type": "code",
      "execution_count": null,
      "metadata": {
        "id": "NCZ5an_JCJrG",
        "colab": {
          "base_uri": "https://localhost:8080/"
        },
        "outputId": "e7f0f4ee-f976-43c5-ace5-eeabca60fa84"
      },
      "outputs": [
        {
          "output_type": "stream",
          "name": "stdout",
          "text": [
            "False\n",
            "True\n"
          ]
        }
      ],
      "source": [
        "#4: Identity operators in Python\n",
        "x1 = 5\n",
        "y1 = 5\n",
        "x2 = 'Hello'\n",
        "y2 = 'Hello'\n",
        "print(x1 is not y1)#false\n",
        "print(x2 is y2)#true"
      ]
    },
    {
      "cell_type": "code",
      "execution_count": null,
      "metadata": {
        "colab": {
          "base_uri": "https://localhost:8080/"
        },
        "id": "82gCs0FUCJrH",
        "outputId": "c4eed868-9c78-4f04-8547-e89da7a20896"
      },
      "outputs": [
        {
          "name": "stdout",
          "output_type": "stream",
          "text": [
            "True\n",
            "True\n"
          ]
        }
      ],
      "source": [
        "#5: Membership operators in Python\n",
        "x = 'Hello world'\n",
        "print('H' in x)#true\n",
        "print('hello' not in x)#true"
      ]
    },
    {
      "cell_type": "code",
      "execution_count": null,
      "metadata": {
        "colab": {
          "base_uri": "https://localhost:8080/"
        },
        "id": "KlIX_Pe5CJrH",
        "outputId": "2ca32494-b0ae-4197-bb10-cae046266992"
      },
      "outputs": [
        {
          "name": "stdout",
          "output_type": "stream",
          "text": [
            "11\n",
            "6\n",
            "30\n"
          ]
        }
      ],
      "source": [
        "# Assignment OPerators\n",
        "\n",
        "q=5\n",
        "s=6\n",
        "s+=q#s=s+q\n",
        "print(s)\n",
        "s-=q#s=s-q\n",
        "print(s)\n",
        "s*=q#s=s*q\n",
        "print(s)"
      ]
    },
    {
      "cell_type": "code",
      "execution_count": null,
      "metadata": {
        "id": "k5pbDUIVCJrH",
        "colab": {
          "base_uri": "https://localhost:8080/"
        },
        "outputId": "d0ca7544-e6c7-43b0-9b5d-d10aeff6a2a6"
      },
      "outputs": [
        {
          "output_type": "stream",
          "name": "stdout",
          "text": [
            "90.0\n",
            "90.0\n",
            "90.0\n"
          ]
        }
      ],
      "source": [
        "#OPERATOR PRECEDENCE\n",
        "a = 20; b = 10; c = 15; d = 5\n",
        "e = (a + b) * c / d #( 30 * 15 ) / 5\n",
        "print (e)\n",
        "e = ((a + b) * c) / d # (30 * 15 ) / 5\n",
        "print (e)\n",
        "e = (a + b) * (c / d)\n",
        "print (e)"
      ]
    },
    {
      "cell_type": "markdown",
      "metadata": {
        "id": "ETYM3ujcCJrH"
      },
      "source": [
        "# Control Structures"
      ]
    },
    {
      "cell_type": "code",
      "execution_count": null,
      "metadata": {
        "colab": {
          "base_uri": "https://localhost:8080/"
        },
        "id": "bW-rqcDjCJrI",
        "outputId": "bd3de303-d0f4-4b66-8f65-ca0dfa353cd4"
      },
      "outputs": [
        {
          "name": "stdout",
          "output_type": "stream",
          "text": [
            "a is larger than b\n"
          ]
        }
      ],
      "source": [
        "#IF-ELSE\n",
        "\n",
        "a=5\n",
        "b=3\n",
        "if a < b:\n",
        " print(\"a is smaller than b\")\n",
        "else:\n",
        " print(\"a is larger than b\")\n",
        "\n"
      ]
    },
    {
      "cell_type": "code",
      "execution_count": null,
      "metadata": {
        "id": "39IJOitPCJrI"
      },
      "outputs": [],
      "source": [
        "#if else if\n",
        "a=input('Enter the value of a')\n",
        "b=input('Enter the value of b')\n",
        "c=input('Enter the value of c')\n",
        "if(a>b and a>c):\n",
        "    print(\"a is bigger\")\n",
        "elif(b>c):\n",
        "    print(\"b is bigger\")\n",
        "else:\n",
        "    print(\"c is bigger\")"
      ]
    },
    {
      "cell_type": "code",
      "execution_count": null,
      "metadata": {
        "colab": {
          "base_uri": "https://localhost:8080/"
        },
        "id": "1Kn1UjR5CJrI",
        "outputId": "edbee1b8-15c3-4856-ecbe-1c90e9d075aa"
      },
      "outputs": [
        {
          "output_type": "stream",
          "name": "stdout",
          "text": [
            "25\n"
          ]
        }
      ],
      "source": [
        "#TERNARY OPERATOR\n",
        "    \n",
        "order_total = 200\n",
        "discount = 25 if order_total > 100 else 0\n",
        "print(discount)\n"
      ]
    },
    {
      "cell_type": "code",
      "execution_count": null,
      "metadata": {
        "id": "hBtU-JibCJrL"
      },
      "outputs": [],
      "source": [
        "#Challenge\n",
        "\n",
        "grade = input('What is your grade(\"A\",\"B\",\"C\":)')\n",
        "if(grade=='A'):\n",
        "    print(\"Excellent\")\n",
        "elif(grade=='B'):\n",
        "    print(\"Well Done\")\n",
        "elif(grade=='C'):\n",
        "    print(\"Work Harder\")\n",
        "else:    \n",
        "    print(\"I don't know your grade\")"
      ]
    },
    {
      "cell_type": "markdown",
      "metadata": {
        "id": "J5GA2Jb4CJrM"
      },
      "source": [
        "# Looping Statements"
      ]
    },
    {
      "cell_type": "code",
      "execution_count": null,
      "metadata": {
        "id": "-WilISbdCJrM",
        "colab": {
          "base_uri": "https://localhost:8080/"
        },
        "outputId": "6cd24a57-516d-4ce7-cc70-95a11fc554ed"
      },
      "outputs": [
        {
          "output_type": "stream",
          "name": "stdout",
          "text": [
            "1\n",
            "2\n",
            "3\n",
            "4\n",
            "5\n",
            "6\n",
            "7\n",
            "8\n",
            "9\n"
          ]
        }
      ],
      "source": [
        "\n",
        "#while  \n",
        "a=1\n",
        "while(a<10):\n",
        "    print(a)\n",
        "    a=a+1\n",
        "    "
      ]
    },
    {
      "cell_type": "code",
      "execution_count": null,
      "metadata": {
        "id": "K8BDsQBHCJrM",
        "colab": {
          "base_uri": "https://localhost:8080/"
        },
        "outputId": "dec9e985-7067-4e21-af98-5b9275a3bb6c"
      },
      "outputs": [
        {
          "output_type": "stream",
          "name": "stdout",
          "text": [
            "x =  1\n",
            "x =  2\n",
            "x =  3\n",
            "x =  4\n",
            "x =  5\n",
            "Today food is  Durian\n",
            "Today food is  Banana\n",
            "Today food is  Orange\n",
            "Today food is  Apple\n"
          ]
        }
      ],
      "source": [
        "#FOR   \n",
        "for x in [1, 2, 3, 4, 5]:\n",
        " print(\"x = \",x)\n",
        "fruits = ['Durian', 'Banana','Orange','Apple']\n",
        "for today_fruit in fruits:\n",
        " print (\"Today food is \", today_fruit)"
      ]
    },
    {
      "cell_type": "code",
      "execution_count": null,
      "metadata": {
        "id": "FgHywFuWCJrN",
        "colab": {
          "base_uri": "https://localhost:8080/"
        },
        "outputId": "808871a9-0097-42b5-90cf-fc034a164c4d"
      },
      "outputs": [
        {
          "output_type": "stream",
          "name": "stdout",
          "text": [
            "{1, 3}\n",
            "[-10, -9, -8, -7, -6, -5, -4, -3, -2, -1, 0]\n"
          ]
        }
      ],
      "source": [
        "#Range Function\n",
        "a=set(range(1,5,2))\n",
        "print(a)\n",
        "b=list(range(-10,1,1))\n",
        "print(b)\n",
        "\n",
        "\n",
        "a = []\n",
        "for i in range(1,11):\n",
        " a.append(i*i)"
      ]
    },
    {
      "cell_type": "code",
      "execution_count": null,
      "metadata": {
        "id": "tx7FYVhECJrN",
        "colab": {
          "base_uri": "https://localhost:8080/"
        },
        "outputId": "331d9df5-fb1d-4f79-9063-f495e6940222"
      },
      "outputs": [
        {
          "output_type": "stream",
          "name": "stdout",
          "text": [
            "The height of Alfred is 170cm\n",
            "The height of Ally is 160cm\n",
            "The height of Belinda is 155cm\n"
          ]
        }
      ],
      "source": [
        "#ENUMERATE\n",
        "person = ['Alfred', 'Ally', 'Belinda']\n",
        "height = [170, 160, 155]\n",
        "for i, name in enumerate(person):\n",
        " h = height[i]\n",
        " print(\"The height of {} is {}cm\".format(name, h))\n"
      ]
    },
    {
      "cell_type": "code",
      "execution_count": null,
      "metadata": {
        "id": "W7JVnrn4CJrN",
        "colab": {
          "base_uri": "https://localhost:8080/"
        },
        "outputId": "1bf79060-1fb2-4743-b7ab-19ff8b8a7b2b"
      },
      "outputs": [
        {
          "output_type": "stream",
          "name": "stdout",
          "text": [
            "1 a\n",
            "2 b\n",
            "3 c\n",
            "4 d\n"
          ]
        }
      ],
      "source": [
        "#Zip\n",
        "a=[1,2,3,4,5]\n",
        "b=['a','b','c','d']\n",
        "c=zip(a,b)\n",
        "for i,j in c:\n",
        "    print(i,j)\n",
        "    "
      ]
    },
    {
      "cell_type": "code",
      "execution_count": null,
      "metadata": {
        "id": "pYCVljiiCJrN",
        "colab": {
          "base_uri": "https://localhost:8080/"
        },
        "outputId": "2c91c88f-8477-4aaa-dfd3-28d43f94e89b"
      },
      "outputs": [
        {
          "output_type": "stream",
          "name": "stdout",
          "text": [
            "Current Letter : P\n",
            "Current Letter : y\n",
            "Current Letter : t\n"
          ]
        }
      ],
      "source": [
        "#BREAK\n",
        "for letter in 'Python':\n",
        " if letter == 'h':\n",
        "  break\n",
        " print ('Current Letter :', letter)\n"
      ]
    },
    {
      "cell_type": "code",
      "execution_count": null,
      "metadata": {
        "id": "ndYLoqiCCJrN",
        "colab": {
          "base_uri": "https://localhost:8080/"
        },
        "outputId": "3f7a200b-6b1c-4fb6-95d5-2cbfa9bd4229"
      },
      "outputs": [
        {
          "output_type": "stream",
          "name": "stdout",
          "text": [
            "Current Letter : P\n",
            "Current Letter : y\n",
            "Current Letter : t\n",
            "Current Letter : o\n",
            "Current Letter : n\n"
          ]
        }
      ],
      "source": [
        "#CONTINUE\n",
        "for letter in 'Python':\n",
        " if letter == 'h':\n",
        "  continue\n",
        " print ('Current Letter :', letter)\n",
        " "
      ]
    },
    {
      "cell_type": "code",
      "execution_count": null,
      "metadata": {
        "id": "O5F-X5N8CJrO",
        "colab": {
          "base_uri": "https://localhost:8080/"
        },
        "outputId": "6aa1820e-50d5-4156-a97a-2585dede8e66"
      },
      "outputs": [
        {
          "output_type": "stream",
          "name": "stdout",
          "text": [
            "no break\n",
            "no break\n",
            "no break\n",
            "no break\n"
          ]
        }
      ],
      "source": [
        "#ELSE IN LOOP\n",
        "x = [1, 2, 3, 4] \n",
        "for i in x: \n",
        "     if i % 5 == 0: \n",
        "         break \n",
        "         print(i) \n",
        "     else: \n",
        "      print(\"no break\")\n",
        "     "
      ]
    },
    {
      "cell_type": "code",
      "execution_count": null,
      "metadata": {
        "id": "3c2T5sliCJrO",
        "colab": {
          "base_uri": "https://localhost:8080/"
        },
        "outputId": "77b97449-813c-4fda-f200-fd36d76763bc"
      },
      "outputs": [
        {
          "output_type": "stream",
          "name": "stdout",
          "text": [
            "2002\n",
            "2009\n",
            "2016\n",
            "2023\n",
            "2037\n",
            "2044\n",
            "2051\n",
            "2058\n",
            "2072\n",
            "2079\n",
            "2086\n",
            "2093\n",
            "2107\n",
            "2114\n",
            "2121\n",
            "2128\n",
            "2142\n",
            "2149\n",
            "2156\n",
            "2163\n",
            "2177\n",
            "2184\n",
            "2191\n",
            "2198\n",
            "2212\n",
            "2219\n",
            "2226\n",
            "2233\n",
            "2247\n",
            "2254\n",
            "2261\n",
            "2268\n",
            "2282\n",
            "2289\n",
            "2296\n",
            "2303\n",
            "2317\n",
            "2324\n",
            "2331\n",
            "2338\n",
            "2352\n",
            "2359\n",
            "2366\n",
            "2373\n",
            "2387\n",
            "2394\n",
            "2401\n",
            "2408\n",
            "2422\n",
            "2429\n",
            "2436\n",
            "2443\n",
            "2457\n",
            "2464\n",
            "2471\n",
            "2478\n",
            "2492\n",
            "2499\n",
            "2506\n",
            "2513\n",
            "2527\n",
            "2534\n",
            "2541\n",
            "2548\n",
            "2562\n",
            "2569\n",
            "2576\n",
            "2583\n",
            "2597\n",
            "2604\n",
            "2611\n",
            "2618\n",
            "2632\n",
            "2639\n",
            "2646\n",
            "2653\n",
            "2667\n",
            "2674\n",
            "2681\n",
            "2688\n",
            "2702\n",
            "2709\n",
            "2716\n",
            "2723\n",
            "2737\n",
            "2744\n",
            "2751\n",
            "2758\n",
            "2772\n",
            "2779\n",
            "2786\n",
            "2793\n",
            "2807\n",
            "2814\n",
            "2821\n",
            "2828\n",
            "2842\n",
            "2849\n",
            "2856\n",
            "2863\n",
            "2877\n",
            "2884\n",
            "2891\n",
            "2898\n",
            "2912\n",
            "2919\n",
            "2926\n",
            "2933\n",
            "2947\n",
            "2954\n",
            "2961\n",
            "2968\n",
            "2982\n",
            "2989\n",
            "2996\n",
            "3003\n",
            "3017\n",
            "3024\n",
            "3031\n",
            "3038\n",
            "3052\n",
            "3059\n",
            "3066\n",
            "3073\n",
            "3087\n",
            "3094\n",
            "3101\n",
            "3108\n",
            "3122\n",
            "3129\n",
            "3136\n",
            "3143\n",
            "3157\n",
            "3164\n",
            "3171\n",
            "3178\n",
            "3192\n",
            "3199\n"
          ]
        }
      ],
      "source": [
        "#Challenge\n",
        "#Write a program which will find all such numbers which are divisible by 7 but are not a multiple of 5, between 2000 and 3200(both included)\n",
        "for x in range(2000,3201):\n",
        "    if((x%7==0)and(x%5!=0)):\n",
        "        print(x)\n",
        "x=7\n",
        "\n"
      ]
    },
    {
      "cell_type": "code",
      "execution_count": null,
      "metadata": {
        "id": "syVnr5pOCJrO",
        "colab": {
          "base_uri": "https://localhost:8080/"
        },
        "outputId": "2d19a92f-d943-463e-f34d-3a6d9c4350eb"
      },
      "outputs": [
        {
          "output_type": "stream",
          "name": "stdout",
          "text": [
            "120\n"
          ]
        }
      ],
      "source": [
        "#5*4*3*2*1(factorial formula)\n",
        "#7*6*5*4*3*2*1\n",
        "\n",
        "#or\n",
        "#1*2*3*4*5*6*7\n",
        "#1*2*3*4*5\n",
        "\n",
        "#Write a program which can compute the factorial of a givennumber.\n",
        "n=5#similar to x=5\n",
        "f=1#initialization\n",
        "for x in range(1,n+1):#(1,6)\n",
        "    f=f*x\n",
        "print(f)"
      ]
    }
  ],
  "metadata": {
    "colab": {
      "name": "Day1.ipynb",
      "provenance": []
    },
    "kernelspec": {
      "display_name": "Python 3",
      "language": "python",
      "name": "python3"
    },
    "language_info": {
      "codemirror_mode": {
        "name": "ipython",
        "version": 3
      },
      "file_extension": ".py",
      "mimetype": "text/x-python",
      "name": "python",
      "nbconvert_exporter": "python",
      "pygments_lexer": "ipython3",
      "version": "3.7.4"
    }
  },
  "nbformat": 4,
  "nbformat_minor": 0
}